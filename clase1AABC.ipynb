{
  "nbformat": 4,
  "nbformat_minor": 0,
  "metadata": {
    "colab": {
      "provenance": [],
      "authorship_tag": "ABX9TyNGWjQixZV1iVx2FoG/32ni",
      "include_colab_link": true
    },
    "kernelspec": {
      "name": "python3",
      "display_name": "Python 3"
    },
    "language_info": {
      "name": "python"
    }
  },
  "cells": [
    {
      "cell_type": "markdown",
      "metadata": {
        "id": "view-in-github",
        "colab_type": "text"
      },
      "source": [
        "<a href=\"https://colab.research.google.com/github/abigailbolivar-c87/CursoDjango/blob/main/clase1AABC.ipynb\" target=\"_parent\"><img src=\"https://colab.research.google.com/assets/colab-badge.svg\" alt=\"Open In Colab\"/></a>"
      ]
    },
    {
      "cell_type": "code",
      "execution_count": null,
      "metadata": {
        "id": "5n77mbNR_M7J"
      },
      "outputs": [],
      "source": []
    },
    {
      "cell_type": "code",
      "source": [],
      "metadata": {
        "id": "Tr-nfUuDNO5K"
      },
      "execution_count": null,
      "outputs": []
    },
    {
      "cell_type": "markdown",
      "source": [
        "## Variables en python"
      ],
      "metadata": {
        "id": "hfiVRmg7NMs0"
      }
    },
    {
      "cell_type": "code",
      "source": [
        "a=1\n",
        "b=23.5\n",
        "print(a)\n",
        "print(b)\n",
        "type(b)"
      ],
      "metadata": {
        "colab": {
          "base_uri": "https://localhost:8080/"
        },
        "id": "ENPyayuhNUGb",
        "outputId": "ffb0d082-3b20-4fb5-b4fd-4b4ddcec5fd1"
      },
      "execution_count": 8,
      "outputs": [
        {
          "output_type": "stream",
          "name": "stdout",
          "text": [
            "1\n",
            "23.5\n"
          ]
        },
        {
          "output_type": "execute_result",
          "data": {
            "text/plain": [
              "float"
            ]
          },
          "metadata": {},
          "execution_count": 8
        }
      ]
    },
    {
      "cell_type": "markdown",
      "source": [
        "## Sentencia if else\n",
        "La sentencia condicional en Python (al igual que en muchos otros lenguajes de programación) es if. En su escritura debemos añadir una expresión de comparación terminando con dos puntos al final de la línea.\n"
      ],
      "metadata": {
        "id": "RkEK4yykNYsi"
      }
    },
    {
      "cell_type": "markdown",
      "source": [],
      "metadata": {
        "id": "7z63KrY1Ncyg"
      }
    },
    {
      "cell_type": "code",
      "source": [
        "edad=int(input(\"ingrese su edad: \"))\n",
        "if edad>=12:\n",
        "  print(\"puede entrar\")\n",
        "else:\n",
        "  print(\"no puede entrar\")\n"
      ],
      "metadata": {
        "colab": {
          "base_uri": "https://localhost:8080/"
        },
        "id": "tZRAJMvFNlw2",
        "outputId": "f6df2e18-2c36-4266-9071-f4f2515fd7d2"
      },
      "execution_count": 9,
      "outputs": [
        {
          "output_type": "stream",
          "name": "stdout",
          "text": [
            "ingrese su edad: 33\n",
            "puede entrar\n"
          ]
        }
      ]
    },
    {
      "cell_type": "markdown",
      "source": [
        "## Ciclo for\n",
        "1.1 Python permite recorrer aquellos tipos de datos que sean iterables, es decir, que admitan iterar2 sobre ellos."
      ],
      "metadata": {
        "id": "TiiZK8zVNwf6"
      }
    },
    {
      "cell_type": "code",
      "source": [
        "letra='Abigail'\n",
        "for L in letra:\n",
        "  print(L)\n"
      ],
      "metadata": {
        "colab": {
          "base_uri": "https://localhost:8080/"
        },
        "id": "9W9CLcO5N1P8",
        "outputId": "0d7ef3d2-691d-405e-9129-ae3f7d631301"
      },
      "execution_count": 10,
      "outputs": [
        {
          "output_type": "stream",
          "name": "stdout",
          "text": [
            "A\n",
            "b\n",
            "i\n",
            "g\n",
            "a\n",
            "i\n",
            "l\n"
          ]
        }
      ]
    },
    {
      "cell_type": "markdown",
      "source": [
        "## Las listas\n",
        "Permiten almacenar objetos mediante un orden definido\n"
      ],
      "metadata": {
        "id": "wKfd70J7N-g6"
      }
    },
    {
      "cell_type": "code",
      "source": [
        "frutas=['manzana','pera','naranja']\n",
        "for fruta in frutas:\n",
        "  print(fruta)\n",
        "\n",
        "\n",
        "frutas.append('uva')\n",
        "print(frutas)\n",
        "print(' Numeros')\n",
        "edades=[20,30,10]\n",
        "for N in edades:\n",
        "  print(N)\n"
      ],
      "metadata": {
        "colab": {
          "base_uri": "https://localhost:8080/"
        },
        "id": "NMQHb-FgODxY",
        "outputId": "a3711bec-53fb-4750-8bb7-fa9ca803367a"
      },
      "execution_count": 11,
      "outputs": [
        {
          "output_type": "stream",
          "name": "stdout",
          "text": [
            "manzana\n",
            "pera\n",
            "naranja\n",
            "['manzana', 'pera', 'naranja', 'uva']\n",
            " Numeros\n",
            "20\n",
            "30\n",
            "10\n"
          ]
        }
      ]
    },
    {
      "cell_type": "markdown",
      "source": [
        "# Tuplas\n",
        "1. El concepto de tupla es muy similar al de lista. Aunque hay algunas diferencias menores, lo fundamental es que, mientras una lista es mutable y se puede modificar, una tupla no admite cambios y por lo tanto, es inmutable.\n"
      ],
      "metadata": {
        "id": "zmlndPZX_TYG"
      }
    },
    {
      "cell_type": "code",
      "source": [
        "colores=('azul','verde')\n"
      ],
      "metadata": {
        "id": "LMiP_ArF_ZEh"
      },
      "execution_count": null,
      "outputs": []
    },
    {
      "cell_type": "markdown",
      "source": [
        "## Diccionarios\n",
        "Podemos trasladar el concepto de diccionario de la vida real al de diccionario en Python.\n",
        "Al fin y al cabo un diccionario es un objeto que contiene palabras, y cada palabra tiene\n",
        "asociado un significado. Haciendo el  paralelismo, diríamos que en Python un diccionario es también un objeto indexado por claves (las palabras) que tienen asociados unos valores (los significados).\n"
      ],
      "metadata": {
        "id": "fI-Kjqc-_601"
      }
    },
    {
      "cell_type": "code",
      "source": [
        "Elmandado={\n",
        "    'edad': 15,\n",
        "    'peso': 35,\n",
        "}\n",
        "Elmandado\n",
        "\n",
        "for clave,valor in Elmandado.items():\n",
        "  print (clave,valor)"
      ],
      "metadata": {
        "colab": {
          "base_uri": "https://localhost:8080/"
        },
        "id": "ZYWYb7KPAStf",
        "outputId": "23e0d39b-b497-4268-e9a7-f5c157700ec3"
      },
      "execution_count": 2,
      "outputs": [
        {
          "output_type": "stream",
          "name": "stdout",
          "text": [
            "edad 15\n",
            "peso 35\n"
          ]
        }
      ]
    },
    {
      "cell_type": "markdown",
      "source": [
        "## Funciones\n",
        "1. Podemos trasladar el concepto de diccionario de la vida real al de diccionario en Python.\n",
        "Al fin y al cabo un diccionario es un objeto que contiene palabras, y cada palabra tiene asociado un significado. Haciendo el paralelismo, diríamos que en Python un diccionario es también un objeto indexado por claves (las palabras) que tienen asociados unos valores (los significados)."
      ],
      "metadata": {
        "id": "z4Jij-8RCvRG"
      }
    },
    {
      "cell_type": "markdown",
      "source": [],
      "metadata": {
        "id": "E2hxNICmC9IL"
      }
    },
    {
      "cell_type": "code",
      "source": [
        "from __future__ import print_function\n",
        "def hola():\n",
        "  print('Abigail')\n",
        "\n",
        "def suma(a,b):\n",
        "  return a+b\n",
        "\n",
        "hola()\n",
        "print(suma(2,3))\n"
      ],
      "metadata": {
        "colab": {
          "base_uri": "https://localhost:8080/"
        },
        "id": "RhOlrdXeC_hx",
        "outputId": "31cbead7-42c7-4586-c829-a95a68769fe0"
      },
      "execution_count": 5,
      "outputs": [
        {
          "output_type": "stream",
          "name": "stdout",
          "text": [
            "Abigail\n",
            "5\n"
          ]
        }
      ]
    },
    {
      "cell_type": "markdown",
      "source": [
        "## Programación orientada a objetos\n",
        "1. La programación orientada a objetos (POO) o en sus siglas inglesas OOP es una manera de programar que permite llevar al código mecanismos usados con entidades de la vida real."
      ],
      "metadata": {
        "id": "pFxp4kXNFbaf"
      }
    },
    {
      "cell_type": "code",
      "source": [
        "# clase persona\n",
        "class Persona:\n",
        "  # constructor self--> así mismo o dentro de aqui\n",
        "  def __init__(self, nombre, edad):\n",
        "    self.nombre = nombre\n",
        "    self.edad = edad\n",
        "\n",
        "# Método imprimir\n",
        "def imprimir (self):\n",
        "  print(self.nombre,self.edad)\n",
        "\n",
        "\n",
        "# objeto p1\n",
        "# instanciar Persona(\"Abigail\", 41)\n",
        "p1 = Persona(\"Abigail\", 41)\n",
        "\n",
        "#imprime el atributo nombre del objeto p1\n",
        "print(p1.nombre)\n",
        "#imprime el atributo edad del objeto p1\n",
        "print(p1.edad)\n",
        "\n",
        "#Otro ejemplo\n",
        "print('Otro ejemplo')\n",
        "pedro=Persona('Aida',26)\n",
        "print(pedro.nombre)\n",
        "print(pedro.edad)\n",
        "\n",
        "print('tercer ejemplo')\n",
        "\n",
        "pedro.imprimir()\n",
        "\n"
      ],
      "metadata": {
        "colab": {
          "base_uri": "https://localhost:8080/",
          "height": 297
        },
        "id": "8X-1kpCRFned",
        "outputId": "83e29a8e-a8c9-4b59-81e0-eb70782d2f03"
      },
      "execution_count": 12,
      "outputs": [
        {
          "output_type": "stream",
          "name": "stdout",
          "text": [
            "Abigail\n",
            "41\n",
            "Otro ejemplo\n",
            "Aida\n",
            "26\n",
            "tercer ejemplo\n"
          ]
        },
        {
          "output_type": "error",
          "ename": "AttributeError",
          "evalue": "'Persona' object has no attribute 'imprimir'",
          "traceback": [
            "\u001b[0;31m---------------------------------------------------------------------------\u001b[0m",
            "\u001b[0;31mAttributeError\u001b[0m                            Traceback (most recent call last)",
            "\u001b[0;32m/tmp/ipython-input-1748656632.py\u001b[0m in \u001b[0;36m<cell line: 0>\u001b[0;34m()\u001b[0m\n\u001b[1;32m     28\u001b[0m \u001b[0mprint\u001b[0m\u001b[0;34m(\u001b[0m\u001b[0;34m'tercer ejemplo'\u001b[0m\u001b[0;34m)\u001b[0m\u001b[0;34m\u001b[0m\u001b[0;34m\u001b[0m\u001b[0m\n\u001b[1;32m     29\u001b[0m \u001b[0;34m\u001b[0m\u001b[0m\n\u001b[0;32m---> 30\u001b[0;31m \u001b[0mpedro\u001b[0m\u001b[0;34m.\u001b[0m\u001b[0mimprimir\u001b[0m\u001b[0;34m(\u001b[0m\u001b[0;34m)\u001b[0m\u001b[0;34m\u001b[0m\u001b[0;34m\u001b[0m\u001b[0m\n\u001b[0m\u001b[1;32m     31\u001b[0m \u001b[0;34m\u001b[0m\u001b[0m\n",
            "\u001b[0;31mAttributeError\u001b[0m: 'Persona' object has no attribute 'imprimir'"
          ]
        }
      ]
    }
  ]
}